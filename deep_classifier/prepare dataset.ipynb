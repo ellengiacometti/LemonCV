{
 "cells": [
  {
   "cell_type": "code",
   "execution_count": 1,
   "metadata": {},
   "outputs": [],
   "source": [
    "from pathlib import Path\n",
    "import pandas as pd\n",
    "import re\n",
    "import numpy as np\n",
    "%matplotlib inline"
   ]
  },
  {
   "cell_type": "code",
   "execution_count": 2,
   "metadata": {},
   "outputs": [
    {
     "data": {
      "text/plain": [
       "WindowsPath('D:/desenvolvimento/datasets/TRAIN1200 -1200_CORRIGIDO')"
      ]
     },
     "execution_count": 2,
     "metadata": {},
     "output_type": "execute_result"
    }
   ],
   "source": [
    "base_dir = Path('D:\\desenvolvimento\\datasets\\TRAIN1200 -1200_CORRIGIDO')\n",
    "base_dir"
   ]
  },
  {
   "cell_type": "code",
   "execution_count": 3,
   "metadata": {},
   "outputs": [
    {
     "data": {
      "text/plain": [
       "WindowsPath('D:/desenvolvimento/datasets/TRAIN1200 -1200_CORRIGIDO/0007_RSG.jpg')"
      ]
     },
     "execution_count": 3,
     "metadata": {},
     "output_type": "execute_result"
    }
   ],
   "source": [
    "iter_files = base_dir.glob('*.jpg')\n",
    "file = next(iter_files)\n",
    "file"
   ]
  },
  {
   "cell_type": "code",
   "execution_count": 4,
   "metadata": {},
   "outputs": [
    {
     "data": {
      "text/plain": [
       "'0007_RSG.jpg'"
      ]
     },
     "execution_count": 4,
     "metadata": {},
     "output_type": "execute_result"
    }
   ],
   "source": [
    "file.name"
   ]
  },
  {
   "cell_type": "code",
   "execution_count": 5,
   "metadata": {},
   "outputs": [
    {
     "data": {
      "text/plain": [
       "[('D:\\\\desenvolvimento\\\\datasets\\\\TRAIN1200 -1200_CORRIGIDO\\\\0007_RSG.jpg',\n",
       "  'R',\n",
       "  'S',\n",
       "  'G'),\n",
       " ('D:\\\\desenvolvimento\\\\datasets\\\\TRAIN1200 -1200_CORRIGIDO\\\\0009_RSG.jpg',\n",
       "  'R',\n",
       "  'S',\n",
       "  'G'),\n",
       " ('D:\\\\desenvolvimento\\\\datasets\\\\TRAIN1200 -1200_CORRIGIDO\\\\0010_RSM.jpg',\n",
       "  'R',\n",
       "  'S',\n",
       "  'M'),\n",
       " ('D:\\\\desenvolvimento\\\\datasets\\\\TRAIN1200 -1200_CORRIGIDO\\\\0017_RSG.jpg',\n",
       "  'R',\n",
       "  'S',\n",
       "  'G'),\n",
       " ('D:\\\\desenvolvimento\\\\datasets\\\\TRAIN1200 -1200_CORRIGIDO\\\\0019_RSG.jpg',\n",
       "  'R',\n",
       "  'S',\n",
       "  'G')]"
      ]
     },
     "execution_count": 5,
     "metadata": {},
     "output_type": "execute_result"
    }
   ],
   "source": [
    "files = []\n",
    "append_file = files.append\n",
    "for file in base_dir.glob('*.jpg'):\n",
    "    f = file.name\n",
    "    match = re.match(r'\\d+_(\\w)(\\w)(\\w).jpg', f)\n",
    "    if not match:\n",
    "        raise ValueError(f)\n",
    "    append_file((str(file), match[1], match[2], match[3]))\n",
    "files[:5]"
   ]
  },
  {
   "cell_type": "code",
   "execution_count": 6,
   "metadata": {},
   "outputs": [
    {
     "data": {
      "text/html": [
       "<div>\n",
       "<style scoped>\n",
       "    .dataframe tbody tr th:only-of-type {\n",
       "        vertical-align: middle;\n",
       "    }\n",
       "\n",
       "    .dataframe tbody tr th {\n",
       "        vertical-align: top;\n",
       "    }\n",
       "\n",
       "    .dataframe thead th {\n",
       "        text-align: right;\n",
       "    }\n",
       "</style>\n",
       "<table border=\"1\" class=\"dataframe\">\n",
       "  <thead>\n",
       "    <tr style=\"text-align: right;\">\n",
       "      <th></th>\n",
       "      <th>filename</th>\n",
       "      <th>kind</th>\n",
       "      <th>defect</th>\n",
       "      <th>size</th>\n",
       "    </tr>\n",
       "  </thead>\n",
       "  <tbody>\n",
       "    <tr>\n",
       "      <th>0</th>\n",
       "      <td>D:\\desenvolvimento\\datasets\\TRAIN1200 -1200_CO...</td>\n",
       "      <td>R</td>\n",
       "      <td>S</td>\n",
       "      <td>G</td>\n",
       "    </tr>\n",
       "    <tr>\n",
       "      <th>1</th>\n",
       "      <td>D:\\desenvolvimento\\datasets\\TRAIN1200 -1200_CO...</td>\n",
       "      <td>R</td>\n",
       "      <td>S</td>\n",
       "      <td>G</td>\n",
       "    </tr>\n",
       "    <tr>\n",
       "      <th>2</th>\n",
       "      <td>D:\\desenvolvimento\\datasets\\TRAIN1200 -1200_CO...</td>\n",
       "      <td>R</td>\n",
       "      <td>S</td>\n",
       "      <td>M</td>\n",
       "    </tr>\n",
       "    <tr>\n",
       "      <th>3</th>\n",
       "      <td>D:\\desenvolvimento\\datasets\\TRAIN1200 -1200_CO...</td>\n",
       "      <td>R</td>\n",
       "      <td>S</td>\n",
       "      <td>G</td>\n",
       "    </tr>\n",
       "    <tr>\n",
       "      <th>4</th>\n",
       "      <td>D:\\desenvolvimento\\datasets\\TRAIN1200 -1200_CO...</td>\n",
       "      <td>R</td>\n",
       "      <td>S</td>\n",
       "      <td>G</td>\n",
       "    </tr>\n",
       "  </tbody>\n",
       "</table>\n",
       "</div>"
      ],
      "text/plain": [
       "                                            filename kind defect size\n",
       "0  D:\\desenvolvimento\\datasets\\TRAIN1200 -1200_CO...    R      S    G\n",
       "1  D:\\desenvolvimento\\datasets\\TRAIN1200 -1200_CO...    R      S    G\n",
       "2  D:\\desenvolvimento\\datasets\\TRAIN1200 -1200_CO...    R      S    M\n",
       "3  D:\\desenvolvimento\\datasets\\TRAIN1200 -1200_CO...    R      S    G\n",
       "4  D:\\desenvolvimento\\datasets\\TRAIN1200 -1200_CO...    R      S    G"
      ]
     },
     "execution_count": 6,
     "metadata": {},
     "output_type": "execute_result"
    }
   ],
   "source": [
    "df = pd.DataFrame(files, columns=['filename', 'kind', 'defect', 'size'])\n",
    "df.head()"
   ]
  },
  {
   "cell_type": "code",
   "execution_count": 7,
   "metadata": {},
   "outputs": [
    {
     "data": {
      "text/html": [
       "<div>\n",
       "<style scoped>\n",
       "    .dataframe tbody tr th:only-of-type {\n",
       "        vertical-align: middle;\n",
       "    }\n",
       "\n",
       "    .dataframe tbody tr th {\n",
       "        vertical-align: top;\n",
       "    }\n",
       "\n",
       "    .dataframe thead th {\n",
       "        text-align: right;\n",
       "    }\n",
       "</style>\n",
       "<table border=\"1\" class=\"dataframe\">\n",
       "  <thead>\n",
       "    <tr style=\"text-align: right;\">\n",
       "      <th></th>\n",
       "      <th>filename</th>\n",
       "      <th>kind</th>\n",
       "      <th>defect</th>\n",
       "      <th>size</th>\n",
       "      <th>class_name</th>\n",
       "      <th>class</th>\n",
       "    </tr>\n",
       "  </thead>\n",
       "  <tbody>\n",
       "    <tr>\n",
       "      <th>0</th>\n",
       "      <td>D:\\desenvolvimento\\datasets\\TRAIN1200 -1200_CO...</td>\n",
       "      <td>R</td>\n",
       "      <td>S</td>\n",
       "      <td>G</td>\n",
       "      <td>RS</td>\n",
       "      <td>3</td>\n",
       "    </tr>\n",
       "    <tr>\n",
       "      <th>1</th>\n",
       "      <td>D:\\desenvolvimento\\datasets\\TRAIN1200 -1200_CO...</td>\n",
       "      <td>R</td>\n",
       "      <td>S</td>\n",
       "      <td>G</td>\n",
       "      <td>RS</td>\n",
       "      <td>3</td>\n",
       "    </tr>\n",
       "    <tr>\n",
       "      <th>2</th>\n",
       "      <td>D:\\desenvolvimento\\datasets\\TRAIN1200 -1200_CO...</td>\n",
       "      <td>R</td>\n",
       "      <td>S</td>\n",
       "      <td>M</td>\n",
       "      <td>RS</td>\n",
       "      <td>3</td>\n",
       "    </tr>\n",
       "    <tr>\n",
       "      <th>3</th>\n",
       "      <td>D:\\desenvolvimento\\datasets\\TRAIN1200 -1200_CO...</td>\n",
       "      <td>R</td>\n",
       "      <td>S</td>\n",
       "      <td>G</td>\n",
       "      <td>RS</td>\n",
       "      <td>3</td>\n",
       "    </tr>\n",
       "    <tr>\n",
       "      <th>4</th>\n",
       "      <td>D:\\desenvolvimento\\datasets\\TRAIN1200 -1200_CO...</td>\n",
       "      <td>R</td>\n",
       "      <td>S</td>\n",
       "      <td>G</td>\n",
       "      <td>RS</td>\n",
       "      <td>3</td>\n",
       "    </tr>\n",
       "  </tbody>\n",
       "</table>\n",
       "</div>"
      ],
      "text/plain": [
       "                                            filename kind defect size  \\\n",
       "0  D:\\desenvolvimento\\datasets\\TRAIN1200 -1200_CO...    R      S    G   \n",
       "1  D:\\desenvolvimento\\datasets\\TRAIN1200 -1200_CO...    R      S    G   \n",
       "2  D:\\desenvolvimento\\datasets\\TRAIN1200 -1200_CO...    R      S    M   \n",
       "3  D:\\desenvolvimento\\datasets\\TRAIN1200 -1200_CO...    R      S    G   \n",
       "4  D:\\desenvolvimento\\datasets\\TRAIN1200 -1200_CO...    R      S    G   \n",
       "\n",
       "  class_name  class  \n",
       "0         RS      3  \n",
       "1         RS      3  \n",
       "2         RS      3  \n",
       "3         RS      3  \n",
       "4         RS      3  "
      ]
     },
     "execution_count": 7,
     "metadata": {},
     "output_type": "execute_result"
    }
   ],
   "source": [
    "df['class_name'] = (df['kind'] + df['defect']).astype('category')\n",
    "df['class'] = df['class_name'].cat.codes\n",
    "df.head()"
   ]
  },
  {
   "cell_type": "code",
   "execution_count": 8,
   "metadata": {},
   "outputs": [
    {
     "data": {
      "text/plain": [
       "<matplotlib.axes._subplots.AxesSubplot at 0x1e538292cc8>"
      ]
     },
     "execution_count": 8,
     "metadata": {},
     "output_type": "execute_result"
    },
    {
     "data": {
      "image/png": "[encoded data removed]",
      "text/plain": [
       "<Figure size 432x288 with 1 Axes>"
      ]
     },
     "metadata": {
      "needs_background": "light"
     },
     "output_type": "display_data"
    }
   ],
   "source": [
    "df['class'].hist()"
   ]
  },
  {
   "cell_type": "code",
   "execution_count": 9,
   "metadata": {},
   "outputs": [
    {
     "data": {
      "text/plain": [
       "class\n",
       "0    300\n",
       "1    300\n",
       "2    300\n",
       "3    300\n",
       "dtype: int64"
      ]
     },
     "execution_count": 9,
     "metadata": {},
     "output_type": "execute_result"
    }
   ],
   "source": [
    "df.groupby('class').size()"
   ]
  },
  {
   "cell_type": "code",
   "execution_count": 10,
   "metadata": {},
   "outputs": [
    {
     "data": {
      "text/plain": [
       "[Int64Index([188,  96, 474, 485, 628, 165, 142, 672, 219, 599, 554, 613, 625,\n",
       "             185, 452, 221, 114,  74, 640,  77, 106, 143, 198, 391, 223, 157,\n",
       "             113, 450, 100, 644, 144, 630, 679, 171, 646, 641, 663,  91, 653,\n",
       "             192, 603, 555, 673, 222, 166, 650, 230, 626, 212, 130, 182, 614,\n",
       "             145, 689, 146,  87, 109, 107, 151, 616, 617, 290,  51, 687, 652,\n",
       "             111, 530, 386, 677, 648, 655,  99,  58,  93, 153, 661, 163, 609,\n",
       "             102, 187, 681, 666, 610, 224, 279, 529, 448, 675, 657, 683],\n",
       "            dtype='int64'),\n",
       " Int64Index([728, 297, 240, 701, 238, 321, 578, 426, 326, 235, 308, 721, 456,\n",
       "             392, 506, 329, 722, 253, 417, 472, 543, 327, 729, 351, 314, 487,\n",
       "             436, 422,  71, 694, 518, 693, 427, 479, 520, 430, 690, 428, 515,\n",
       "             469, 583, 465, 362, 301, 411, 503, 359, 715, 582, 527, 231, 241,\n",
       "             587,  59,  21, 412, 704, 467, 278,  33, 528, 292, 310, 218, 140,\n",
       "             483, 466, 588, 276, 215, 388, 380, 457, 709, 697, 712, 526, 478,\n",
       "             365, 538, 372, 318,  43, 302, 394, 336, 399, 331, 333, 286],\n",
       "            dtype='int64'),\n",
       " Int64Index([ 791,  730, 1010, 1173, 1076, 1194,  996,  803, 1142, 1086, 1124,\n",
       "              892, 1176, 1064, 1090, 1058,  781, 1163, 1008,  932, 1100,  950,\n",
       "             1056,  771,  751,   41,  862,  284,  770, 1116, 1196,  778,  954,\n",
       "             1162, 1174,  837,  845,  890, 1190, 1195,  744,  880, 1152,  821,\n",
       "              548, 1130,  970, 1134, 1167,  924,  749,  936,   49, 1088, 1145,\n",
       "              817,  815, 1159,  946,  922,   34,  776,  865,  902,  774, 1050,\n",
       "              747,  734, 1150, 1148,  742,  942, 1042, 1102,  974,  962, 1197,\n",
       "              443,  998, 1153,  966, 1046, 1168,  871, 1004, 1000, 1094,  759,\n",
       "              807,  795],\n",
       "            dtype='int64'),\n",
       " Int64Index([1093,  846, 1013,  511,  816, 1115,  834,  798,   11,  337,    4,\n",
       "              860,  441,  905,  796,  939,  935,   20, 1045,  568,  788,  491,\n",
       "              983,   35,  569, 1009,  832,  828,  884,  254,  911, 1049,  987,\n",
       "              824,  355, 1087,  493,  812, 1061,  991,  971,  556,  498,   32,\n",
       "              899,  925,  806,  893, 1041, 1129,  445,  264,  589,  840, 1137,\n",
       "              931,  512,  782,   42,   22, 1085,  949, 1065, 1067,   31,  343,\n",
       "              869, 1057, 1053,  870, 1105, 1091,  814,    3, 1055,  977,  306,\n",
       "             1029,  989,   15,  794,  818,  943,  937,  965,  513, 1021,  872,\n",
       "              957,  999],\n",
       "            dtype='int64')]"
      ]
     },
     "execution_count": 10,
     "metadata": {},
     "output_type": "execute_result"
    }
   ],
   "source": [
    "test_indexes = []\n",
    "append_test_index = test_indexes.append\n",
    "for class_, data in df.groupby('class'):\n",
    "    sample = np.random.choice(300, size=90, replace=False)\n",
    "    append_test_index(data.iloc[sample].index)\n",
    "test_indexes"
   ]
  },
  {
   "cell_type": "code",
   "execution_count": 11,
   "metadata": {},
   "outputs": [
    {
     "data": {
      "text/plain": [
       "Int64Index([   3,    4,   11,   15,   20,   21,   22,   31,   32,   33,\n",
       "            ...\n",
       "            1167, 1168, 1173, 1174, 1176, 1190, 1194, 1195, 1196, 1197],\n",
       "           dtype='int64', length=360)"
      ]
     },
     "execution_count": 11,
     "metadata": {},
     "output_type": "execute_result"
    }
   ],
   "source": [
    "index_test = test_indexes[0].union(test_indexes[1].union(test_indexes[2].union(test_indexes[3])))\n",
    "index_test"
   ]
  },
  {
   "cell_type": "code",
   "execution_count": 12,
   "metadata": {},
   "outputs": [
    {
     "data": {
      "text/plain": [
       "Int64Index([   0,    1,    2,    5,    6,    7,    8,    9,   10,   12,\n",
       "            ...\n",
       "            1185, 1186, 1187, 1188, 1189, 1191, 1192, 1193, 1198, 1199],\n",
       "           dtype='int64', length=840)"
      ]
     },
     "execution_count": 12,
     "metadata": {},
     "output_type": "execute_result"
    }
   ],
   "source": [
    "index_train = df.index.difference(index_test)\n",
    "index_train"
   ]
  },
  {
   "cell_type": "code",
   "execution_count": 13,
   "metadata": {},
   "outputs": [],
   "source": [
    "df.loc[index_train].to_pickle('dataset_train_files.pkl')\n",
    "df.loc[index_test].to_pickle('dataset_test_files.pkl')"
   ]
  },
  {
   "cell_type": "code",
   "execution_count": null,
   "metadata": {},
   "outputs": [],
   "source": []
  }
 ],
 "metadata": {
  "kernelspec": {
   "display_name": "Python 3 (ipykernel)",
   "language": "python",
   "name": "python3"
  },
  "language_info": {
   "codemirror_mode": {
    "name": "ipython",
    "version": 3
   },
   "file_extension": ".py",
   "mimetype": "text/x-python",
   "name": "python",
   "nbconvert_exporter": "python",
   "pygments_lexer": "ipython3",
   "version": "3.9.7"
  }
 },
 "nbformat": 4,
 "nbformat_minor": 4
}
